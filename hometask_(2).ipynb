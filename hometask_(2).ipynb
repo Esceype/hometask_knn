{
  "nbformat": 4,
  "nbformat_minor": 0,
  "metadata": {
    "interpreter": {
      "hash": "916dbcbb3f70747c44a77c7bcd40155683ae19c65e1c03b4aa3499c5328201f1"
    },
    "kernelspec": {
      "display_name": "Python 3.8.10 64-bit",
      "language": "python",
      "name": "python3"
    },
    "language_info": {
      "codemirror_mode": {
        "name": "ipython",
        "version": 3
      },
      "file_extension": ".py",
      "mimetype": "text/x-python",
      "name": "python",
      "nbconvert_exporter": "python",
      "pygments_lexer": "ipython3",
      "version": "3.8.10"
    },
    "orig_nbformat": 4,
    "colab": {
      "name": "hometask (2).ipynb",
      "provenance": [],
      "collapsed_sections": []
    }
  },
  "cells": [
    {
      "cell_type": "markdown",
      "metadata": {
        "id": "lqEWYXGBavel"
      },
      "source": [
        "<font color = green>\n",
        "\n",
        "##  HANDWRITTEN TEXT\n",
        "    (variant 2)\n",
        "\n",
        "</font>\n",
        "\n"
      ]
    },
    {
      "cell_type": "markdown",
      "metadata": {
        "id": "ezSuHA_yave6"
      },
      "source": [
        "<font color = green>\n",
        "\n",
        "###  Load the data \n",
        "\n",
        "</font>\n",
        "\n"
      ]
    },
    {
      "cell_type": "code",
      "metadata": {
        "colab": {
          "base_uri": "https://localhost:8080/",
          "height": 36
        },
        "id": "S_XjO7pPbgNE",
        "outputId": "2a2b3cb0-6e2a-4d24-a0ae-293714e13af4"
      },
      "source": [
        "import os\n",
        "os.getcwd()"
      ],
      "execution_count": null,
      "outputs": [
        {
          "output_type": "execute_result",
          "data": {
            "application/vnd.google.colaboratory.intrinsic+json": {
              "type": "string"
            },
            "text/plain": [
              "'/content'"
            ]
          },
          "metadata": {},
          "execution_count": 6
        }
      ]
    },
    {
      "cell_type": "code",
      "metadata": {
        "id": "4Zm4ylMjavfA",
        "colab": {
          "base_uri": "https://localhost:8080/"
        },
        "outputId": "3cc84e47-94c7-4a79-e3b0-5b46469f4c66"
      },
      "source": [
        "from scipy.io import loadmat\n",
        "import os\n",
        "from sklearn.model_selection import train_test_split\n",
        "\n",
        "\n",
        "path = 'data'\n",
        "fn = os.path.join(path , 'digits.mat')\n",
        "mat= loadmat(fn)\n",
        "X = mat['X']\n",
        "y = mat['y'].ravel()\n",
        "y = y%10 # make 10 to 0 \n",
        "X_train, X_test, y_train, y_test  =  train_test_split(X, y, random_state= 0)\n",
        "print ('X_train.shape=', X_train.shape)\n",
        "print ('X_test.shape=', X_test.shape)\n",
        "print ('y_train.shape=', y_train.shape)\n",
        "print ('y_test.shape=', y_test.shape)\n",
        "\n"
      ],
      "execution_count": 11,
      "outputs": [
        {
          "output_type": "stream",
          "name": "stdout",
          "text": [
            "X_train.shape= (3750, 400)\n",
            "X_test.shape= (1250, 400)\n",
            "y_train.shape= (3750,)\n",
            "y_test.shape= (1250,)\n"
          ]
        }
      ]
    },
    {
      "cell_type": "markdown",
      "metadata": {
        "id": "jPw7dfJNavfR"
      },
      "source": [
        "<font color = green>\n",
        "\n",
        "###  Normalize data\n",
        "\n",
        "</font>"
      ]
    },
    {
      "cell_type": "code",
      "metadata": {
        "id": "lBa4vMf2avfZ"
      },
      "source": [
        "from sklearn.preprocessing import MinMaxScaler\n",
        "\n",
        "scaler = MinMaxScaler()\n",
        "\n",
        "X_train_scaled = scaler.fit_transform(X_train, y_train)\n",
        "X_test_scaled = scaler.fit_transform(X_test, y_test)"
      ],
      "execution_count": 12,
      "outputs": []
    },
    {
      "cell_type": "markdown",
      "metadata": {
        "id": "pfgdd4eKavff"
      },
      "source": [
        "<font color = green>\n",
        "\n",
        "###  Visualize the data\n",
        "\n",
        "</font>\n",
        "\n"
      ]
    },
    {
      "cell_type": "code",
      "metadata": {
        "id": "sMVQWn7tavfi"
      },
      "source": [
        "import numpy as np\n",
        "import matplotlib.pyplot as plt\n",
        "def draw_pixels_img(x, ax = None, title=None):\n",
        "    '''\n",
        "    :param x: ndarray - row\n",
        "    '''\n",
        "\n",
        "    img_width = int(np.sqrt(x.shape[0]))\n",
        "    img_height = x.shape[0]/img_width\n",
        "    try:\n",
        "        data = x.reshape(img_width, -1).T\n",
        "    except:\n",
        "        SystemExit('Cannot compute the size of the picture')\n",
        "    if ax:\n",
        "        plt.sca(ax)\n",
        "    else:\n",
        "        plt.figure(figsize=(2, 8))\n",
        "    \n",
        "    plt.imshow(data, cmap='Greys', interpolation='nearest')\n",
        "    plt.axis('off')\n",
        "    if not title is None:\n",
        "        plt.title(title)\n"
      ],
      "execution_count": 13,
      "outputs": []
    },
    {
      "cell_type": "markdown",
      "metadata": {
        "id": "kA605TcPavfn"
      },
      "source": [
        "<font color = green>\n",
        "\n",
        "###  YOUR CODE FOR 1,2 and 3-LAYERS MLP CLASSIFIER\n",
        "</font>\n",
        "\n"
      ]
    },
    {
      "cell_type": "markdown",
      "metadata": {
        "id": "f7WLM8oOavfr"
      },
      "source": [
        "<font color = green>\n",
        "\n",
        "###  One layer MLP CLASSIFIER\n",
        "</font>"
      ]
    },
    {
      "cell_type": "code",
      "metadata": {
        "id": "ncafISm9avf0",
        "colab": {
          "base_uri": "https://localhost:8080/"
        },
        "outputId": "b0683c0f-462a-497d-c962-e2833639172f"
      },
      "source": [
        "from sklearn.neural_network import MLPClassifier\n",
        "\n",
        "# one layer MPL Classifier\n",
        "clf = MLPClassifier(solver='sgd', activation='logistic', max_iter=300)\n",
        "clf.fit(X_train_scaled, y_train)\n",
        "\n",
        "print(\"One layer train accuracy= {:.3%}\".format(clf.score (X_train_scaled,y_train)))\n",
        "print(\"One layer test accuracy= {:.3%}\".format(clf.score (X_test_scaled,y_test)))"
      ],
      "execution_count": 14,
      "outputs": [
        {
          "output_type": "stream",
          "name": "stdout",
          "text": [
            "One layer train accuracy= 84.160%\n",
            "One layer test accuracy= 85.200%\n"
          ]
        },
        {
          "output_type": "stream",
          "name": "stderr",
          "text": [
            "/usr/local/lib/python3.7/dist-packages/sklearn/neural_network/_multilayer_perceptron.py:696: ConvergenceWarning: Stochastic Optimizer: Maximum iterations (300) reached and the optimization hasn't converged yet.\n",
            "  ConvergenceWarning,\n"
          ]
        }
      ]
    },
    {
      "cell_type": "markdown",
      "metadata": {
        "id": "OkY2l1ioavf_"
      },
      "source": [
        "<font color = green>\n",
        "\n",
        "###  Two layers MLP CLASSIFIER\n",
        "</font>"
      ]
    },
    {
      "cell_type": "code",
      "metadata": {
        "id": "GWp-RbrPavgD",
        "colab": {
          "base_uri": "https://localhost:8080/"
        },
        "outputId": "82fca69f-6052-4ee4-8c9a-0e68030f0630"
      },
      "source": [
        "\n",
        "clf = MLPClassifier((3,3), solver='sgd', activation='logistic', max_iter=300)\n",
        "clf.fit(X_train_scaled, y_train)\n",
        "\n",
        "print(f\"\\nlogistic\")\n",
        "print(\"Two layers train accuracy= {:.3%}\".format(clf.score (X_train_scaled,y_train)))\n",
        "print(\"Two layers test accuracy= {:.3%}\".format(clf.score (X_test_scaled,y_test)))\n",
        "print(\"-\" * 20)\n",
        "\n",
        "\n",
        "clf = MLPClassifier((3,3), solver='sgd', activation='relu', max_iter=300)\n",
        "clf.fit(X_train_scaled, y_train)\n",
        "\n",
        "print(f\"\\nrelu\")\n",
        "print(\"Two layers train accuracy= {:.3%}\".format(clf.score (X_train_scaled,y_train)))\n",
        "print(\"Two layers test accuracy= {:.3%}\".format(clf.score (X_test_scaled,y_test)))\n",
        "print(\"-\" * 20)"
      ],
      "execution_count": 15,
      "outputs": [
        {
          "output_type": "stream",
          "name": "stdout",
          "text": [
            "\n",
            "logistic\n",
            "Two layers train accuracy= 10.160%\n",
            "Two layers test accuracy= 9.520%\n",
            "--------------------\n",
            "\n",
            "relu\n",
            "Two layers train accuracy= 50.320%\n",
            "Two layers test accuracy= 46.480%\n",
            "--------------------\n"
          ]
        },
        {
          "output_type": "stream",
          "name": "stderr",
          "text": [
            "/usr/local/lib/python3.7/dist-packages/sklearn/neural_network/_multilayer_perceptron.py:696: ConvergenceWarning: Stochastic Optimizer: Maximum iterations (300) reached and the optimization hasn't converged yet.\n",
            "  ConvergenceWarning,\n"
          ]
        }
      ]
    },
    {
      "cell_type": "markdown",
      "metadata": {
        "id": "z3MCfxrpavgH"
      },
      "source": [
        "<font color = green>\n",
        "\n",
        "###  Three layers MLP CLASSIFIER\n",
        "</font>"
      ]
    },
    {
      "cell_type": "code",
      "metadata": {
        "id": "QetKNw8TavgJ",
        "colab": {
          "base_uri": "https://localhost:8080/"
        },
        "outputId": "9a132c2a-b7bc-439d-c605-d3374db6ec7b"
      },
      "source": [
        "\n",
        "clf = MLPClassifier((20,7,10), solver='sgd', activation=\"relu\", max_iter=300)\n",
        "clf.fit(X_train_scaled, y_train)\n",
        "\n",
        "print(f\"\\nrelu\")\n",
        "print(\"three layers train accuracy= {:.3%}\".format(clf.score (X_train_scaled,y_train)))\n",
        "print(\"three layers test accuracy= {:.3%}\".format(clf.score (X_test_scaled,y_test)))\n",
        "print(\"-\" * 20)\n",
        "\n",
        "\n",
        "clf = MLPClassifier((20,7,10), solver='sgd', activation=\"logistic\", max_iter=300)\n",
        "clf.fit(X_train_scaled, y_train)\n",
        "\n",
        "print(f\"\\nlogistic\")\n",
        "print(\"three layers train accuracy= {:.3%}\".format(clf.score (X_train_scaled,y_train)))\n",
        "print(\"three layers test accuracy= {:.3%}\".format(clf.score (X_test_scaled,y_test)))\n",
        "print(\"-\" * 20)"
      ],
      "execution_count": 16,
      "outputs": [
        {
          "output_type": "stream",
          "name": "stderr",
          "text": [
            "/usr/local/lib/python3.7/dist-packages/sklearn/neural_network/_multilayer_perceptron.py:696: ConvergenceWarning: Stochastic Optimizer: Maximum iterations (300) reached and the optimization hasn't converged yet.\n",
            "  ConvergenceWarning,\n"
          ]
        },
        {
          "output_type": "stream",
          "name": "stdout",
          "text": [
            "\n",
            "relu\n",
            "three layers train accuracy= 89.520%\n",
            "three layers test accuracy= 86.000%\n",
            "--------------------\n",
            "\n",
            "logistic\n",
            "three layers train accuracy= 10.133%\n",
            "three layers test accuracy= 9.600%\n",
            "--------------------\n"
          ]
        }
      ]
    },
    {
      "cell_type": "markdown",
      "metadata": {
        "id": "RoeRoxxRavgM"
      },
      "source": [
        "<font color = green>\n",
        "\n",
        "###  Visualize\n",
        "</font>\n",
        "\n"
      ]
    },
    {
      "cell_type": "code",
      "metadata": {
        "scrolled": true,
        "id": "ufeT8hU4avgO",
        "colab": {
          "base_uri": "https://localhost:8080/",
          "height": 237
        },
        "outputId": "0b63af50-0d0d-4223-be4f-b703b2e827aa"
      },
      "source": [
        "import matplotlib.pyplot as plt\n",
        "\n",
        "def draw_digits_samples(X,n_rows= 10, n_cols = 10, y=None):\n",
        "    indices = np.random.randint(0, len(X), n_rows*n_cols)\n",
        "    for i in range (n_rows): \n",
        "        for j in range (n_cols):\n",
        "            index = n_rows*i+j           \n",
        "            ax = plt.subplot(n_rows,n_cols,index+1) \n",
        "            if y is None: \n",
        "                draw_pixels_img(X[indices[index]], ax)\n",
        "            else:\n",
        "                draw_pixels_img(X[indices[index]], ax, title=y[indices[index]])\n",
        "    plt.tight_layout(h_pad=-10) \n",
        "\n",
        "fig = plt.figure()\n",
        "\n",
        "# draw_digits_samples(X_train,X_train_scaled, n_rows= 4, n_cols = 6, clf = clf)\n",
        "predicted= clf.predict(X_test_scaled)\n",
        "draw_digits_samples(X_test, n_rows= 10, n_cols = 10, y = predicted)\n",
        "\n"
      ],
      "execution_count": 20,
      "outputs": [
        {
          "output_type": "display_data",
          "data": {
            "image/png": "[encoded data removed]",
            "text/plain": [
              "<Figure size 432x288 with 100 Axes>"
            ]
          },
          "metadata": {
            "needs_background": "light"
          }
        }
      ]
    },
    {
      "cell_type": "markdown",
      "metadata": {
        "id": "t0tiXNN8avgR"
      },
      "source": [
        "### Compare with SVM "
      ]
    },
    {
      "cell_type": "code",
      "metadata": {
        "id": "bwf2xTQWavgU"
      },
      "source": [
        "from sklearn.svm import SVC"
      ],
      "execution_count": 18,
      "outputs": []
    },
    {
      "cell_type": "code",
      "metadata": {
        "scrolled": false,
        "id": "GhI0iasQavgV",
        "colab": {
          "base_uri": "https://localhost:8080/"
        },
        "outputId": "5ea0c750-5cc6-419d-b8d4-eb095ca097d5"
      },
      "source": [
        "clf = SVC(C=10, kernel='rbf', gamma=0.001).fit(X_train_scaled, y_train)\n",
        "print(\"train accuracy= {:.3%}\".format(clf.score (X_train_scaled, y_train)))\n",
        "print(\"test accuracy= {:.3%}\".format(clf.score (X_test_scaled, y_test)))"
      ],
      "execution_count": 19,
      "outputs": [
        {
          "output_type": "stream",
          "name": "stdout",
          "text": [
            "train accuracy= 93.920%\n",
            "test accuracy= 91.840%\n"
          ]
        }
      ]
    },
    {
      "cell_type": "code",
      "metadata": {
        "id": "wnozqHFzavgX"
      },
      "source": [
        ""
      ],
      "execution_count": null,
      "outputs": []
    }
  ]
}